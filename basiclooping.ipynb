{
  "nbformat": 4,
  "nbformat_minor": 0,
  "metadata": {
    "colab": {
      "name": "basiclooping.ipynb",
      "provenance": [],
      "collapsed_sections": []
    },
    "kernelspec": {
      "name": "python3",
      "display_name": "Python 3"
    }
  },
  "cells": [
    {
      "cell_type": "code",
      "metadata": {
        "id": "Zyep0E-Kvc4s",
        "colab": {
          "base_uri": "https://localhost:8080/",
          "height": 51
        },
        "outputId": "9223a5c1-c169-476d-8c3d-619e308eff82"
      },
      "source": [
        "num=int(input())\n",
        "sum=0\n",
        "\n",
        "for i in range(num+1):\n",
        "  sum=sum+i\n",
        "print(sum)  "
      ],
      "execution_count": null,
      "outputs": [
        {
          "output_type": "stream",
          "text": [
            "5\n",
            "15\n"
          ],
          "name": "stdout"
        }
      ]
    },
    {
      "cell_type": "code",
      "metadata": {
        "id": "cSWz5bNtnYOo",
        "colab": {
          "base_uri": "https://localhost:8080/",
          "height": 153
        },
        "outputId": "05541c99-26bd-497d-eb8b-0a5a987df76c"
      },
      "source": [
        "# Use a loop to display elements from a given list which are present at even positions\n",
        "x=int(input(\"enter the length of the list:\"))\n",
        "lst=[]\n",
        "for i in range(1,x+1):\n",
        "  k=int(input())\n",
        "  lst.append(k)\n",
        "print(lst)\n",
        "for i in range(len(lst)):\n",
        "  if i%2==0:\n",
        "    print(lst[i])\n",
        "    \n",
        "\n",
        "\n"
      ],
      "execution_count": null,
      "outputs": [
        {
          "output_type": "stream",
          "text": [
            "enter the length of the list:4\n",
            "1\n",
            "2\n",
            "3\n",
            "4\n",
            "[1, 2, 3, 4]\n",
            "1\n",
            "3\n"
          ],
          "name": "stdout"
        }
      ]
    },
    {
      "cell_type": "code",
      "metadata": {
        "id": "UUb4Oad2PBIP",
        "colab": {
          "base_uri": "https://localhost:8080/",
          "height": 34
        },
        "outputId": "99343954-a165-4199-a4cc-d65350c7a8fa"
      },
      "source": [
        "counter=1\n",
        "def dolotsofstuff():\n",
        "  global counter\n",
        "  for i in (1,2,3):\n",
        "    counter+=1\n",
        "dolotsofstuff()\n",
        "print(counter)\n"
      ],
      "execution_count": null,
      "outputs": [
        {
          "output_type": "stream",
          "text": [
            "4\n"
          ],
          "name": "stdout"
        }
      ]
    },
    {
      "cell_type": "code",
      "metadata": {
        "id": "jZI6l72FourT",
        "colab": {
          "base_uri": "https://localhost:8080/",
          "height": 187
        },
        "outputId": "87726bec-2c3e-41fd-86c9-89dce0529c8f"
      },
      "source": [
        "i=1\n",
        "while i in range(11):\n",
        "  print(i)\n",
        "  i+=1"
      ],
      "execution_count": null,
      "outputs": [
        {
          "output_type": "stream",
          "text": [
            "1\n",
            "2\n",
            "3\n",
            "4\n",
            "5\n",
            "6\n",
            "7\n",
            "8\n",
            "9\n",
            "10\n"
          ],
          "name": "stdout"
        }
      ]
    },
    {
      "cell_type": "code",
      "metadata": {
        "id": "fc8I415SxuBa",
        "colab": {
          "base_uri": "https://localhost:8080/",
          "height": 204
        },
        "outputId": "449c1034-10ea-44d6-d19e-352f8ccc893d"
      },
      "source": [
        "num=int(input())\n",
        "product=1\n",
        "for i in range(1,11):\n",
        "  product=num*i\n",
        "  print(\"{}x{}={}\".format(num,i,product))\n"
      ],
      "execution_count": null,
      "outputs": [
        {
          "output_type": "stream",
          "text": [
            "12\n",
            "12x1=12\n",
            "12x2=24\n",
            "12x3=36\n",
            "12x4=48\n",
            "12x5=60\n",
            "12x6=72\n",
            "12x7=84\n",
            "12x8=96\n",
            "12x9=108\n",
            "12x10=120\n"
          ],
          "name": "stdout"
        }
      ]
    },
    {
      "cell_type": "code",
      "metadata": {
        "id": "cq-Ox6qbpv1L",
        "colab": {
          "base_uri": "https://localhost:8080/",
          "height": 187
        },
        "outputId": "3248e8fd-6cde-425c-8731-50e41bc77ea8"
      },
      "source": [
        "for i in range(-10,-0,1):\n",
        "  print(i)"
      ],
      "execution_count": null,
      "outputs": [
        {
          "output_type": "stream",
          "text": [
            "-10\n",
            "-9\n",
            "-8\n",
            "-7\n",
            "-6\n",
            "-5\n",
            "-4\n",
            "-3\n",
            "-2\n",
            "-1\n"
          ],
          "name": "stdout"
        }
      ]
    },
    {
      "cell_type": "code",
      "metadata": {
        "id": "HLN5vF6Nx_f7",
        "colab": {
          "base_uri": "https://localhost:8080/",
          "height": 51
        },
        "outputId": "0b09fdb3-08ba-429f-bc8e-0f181ff49d5b"
      },
      "source": [
        "a= input(\"enter the number:\")\n",
        "count=0\n",
        "for i in range(1,len(a)+1):\n",
        "  count+=1\n",
        "print(count)  "
      ],
      "execution_count": null,
      "outputs": [
        {
          "output_type": "stream",
          "text": [
            "enter the number:sindhu\n",
            "6\n"
          ],
          "name": "stdout"
        }
      ]
    },
    {
      "cell_type": "code",
      "metadata": {
        "id": "dc8Y7fqf3NMj",
        "colab": {
          "base_uri": "https://localhost:8080/",
          "height": 85
        },
        "outputId": "d5e25c8a-f7ff-4c88-97c0-54208d72eafc"
      },
      "source": [
        "num=int(input())\n",
        "for i in range(1,num+1):\n",
        "  print(i**3)"
      ],
      "execution_count": null,
      "outputs": [
        {
          "output_type": "stream",
          "text": [
            "3\n",
            "1\n",
            "8\n",
            "27\n"
          ],
          "name": "stdout"
        }
      ]
    },
    {
      "cell_type": "code",
      "metadata": {
        "id": "Ho_P6QHD3t2T",
        "colab": {
          "base_uri": "https://localhost:8080/",
          "height": 136
        },
        "outputId": "d399bdad-0901-4fe7-fc1b-dc5574acbe40"
      },
      "source": [
        "x=int(input(\"lenght of the string:\"))\n",
        "lst=[]\n",
        "for i in range(1,x+1):\n",
        "  k=int(input())\n",
        "  lst.append(k)\n",
        "print(lst)\n",
        "max=0\n",
        "for ele in lst:\n",
        "  if max<ele:\n",
        "    max=ele\n",
        "print(max)    \n"
      ],
      "execution_count": null,
      "outputs": [
        {
          "output_type": "stream",
          "text": [
            "lenght of the string:4\n",
            "2\n",
            "3\n",
            "4\n",
            "5\n",
            "[2, 3, 4, 5]\n",
            "5\n"
          ],
          "name": "stdout"
        }
      ]
    },
    {
      "cell_type": "code",
      "metadata": {
        "id": "rlfLO-Kb61T1",
        "colab": {
          "base_uri": "https://localhost:8080/",
          "height": 136
        },
        "outputId": "8e6ef627-4082-4215-8fcb-9721f0f2e814"
      },
      "source": [
        "x=int(input(\"lenght of the string:\"))\n",
        "lst=[]\n",
        "for i in range(1,x+1):\n",
        "  k=int(input())\n",
        "  lst.append(k)\n",
        "print(lst)\n",
        "min=lst[0]\n",
        "for ele in lst:\n",
        "  if min>ele:\n",
        "    min=ele\n",
        "print(min)    "
      ],
      "execution_count": null,
      "outputs": [
        {
          "output_type": "stream",
          "text": [
            "lenght of the string:4\n",
            "2\n",
            "3\n",
            "1\n",
            "0\n",
            "[2, 3, 1, 0]\n",
            "0\n"
          ],
          "name": "stdout"
        }
      ]
    },
    {
      "cell_type": "code",
      "metadata": {
        "id": "of7xCQVG1bKp",
        "colab": {
          "base_uri": "https://localhost:8080/",
          "height": 119
        },
        "outputId": "12d7c655-3f36-41b5-de6e-bdec7efd0db1"
      },
      "source": [
        "x=int(input(\"lenght of the string:\"))\n",
        "lst=[]\n",
        "for i in range(1,x+1):\n",
        "  k=int(input())\n",
        "  lst.append(k)\n",
        "print(lst)\n",
        "print(lst[::-1])  "
      ],
      "execution_count": null,
      "outputs": [
        {
          "output_type": "stream",
          "text": [
            "lenght of the string:3\n",
            "4\n",
            "5\n",
            "6\n",
            "[4, 5, 6]\n",
            "[6, 5, 4]\n"
          ],
          "name": "stdout"
        }
      ]
    }
  ]
}