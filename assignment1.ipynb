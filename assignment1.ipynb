{
  "nbformat": 4,
  "nbformat_minor": 0,
  "metadata": {
    "colab": {
      "name": "assignment1.ipynb",
      "provenance": [],
      "collapsed_sections": []
    },
    "kernelspec": {
      "name": "python3",
      "display_name": "Python 3"
    }
  },
  "cells": [
    {
      "cell_type": "code",
      "metadata": {
        "id": "P0FeVQZ8eTnq",
        "outputId": "b49e1832-808b-4108-97ad-0037a224ab73",
        "colab": {
          "base_uri": "https://localhost:8080/"
        }
      },
      "source": [
        "\"\"\"\n",
        "Write a program using function which takes list of any size as an argument and returns \n",
        "    1. sum of all list elements\n",
        "    2. product of all list elements\n",
        "    3. reverse of the list\n",
        "    4. square of all list elements\n",
        " \"\"\"\n",
        "x=int(input(\"how many numbers you want:\"))\n",
        "lst=[]\n",
        "for i in range(1,x+1):\n",
        "  k=int(input())\n",
        "  lst.append(k)\n",
        "print(lst)\n",
        "def main(lst):\n",
        "    sum=0\n",
        "    product=1\n",
        "    squares = []\n",
        "    for i in lst:\n",
        "        sum+=i\n",
        "        product*=i\n",
        "    for i in lst:\n",
        "        squares.append(i * i)\n",
        "    print(squares)\n",
        "    print(product)\n",
        "    print(sum)\n",
        "    print(\"reverse of a list :\",lst[::-1])\n",
        "main(lst)    \n"
      ],
      "execution_count": 3,
      "outputs": [
        {
          "output_type": "stream",
          "text": [
            "how many numbers you want:2\n",
            "2\n",
            "3\n",
            "[2, 3]\n",
            "[4, 9]\n",
            "6\n",
            "5\n",
            "reverse of a list : [3, 2]\n"
          ],
          "name": "stdout"
        }
      ]
    },
    {
      "cell_type": "code",
      "metadata": {
        "id": "RkbkbIEcl9Yf",
        "outputId": "ad12b47d-0732-48f4-cb5c-9d01cdf1e2b0",
        "colab": {
          "base_uri": "https://localhost:8080/",
          "height": 85
        }
      },
      "source": [
        "\"\"\"\n",
        "Write a program using function which takes input from user as b,a,c and returns b*b - 4 * a * c\n",
        "\"\"\"\n",
        "a=int(input('enter the number a:'))\n",
        "b=int(input('enter the number b:'))\n",
        "c=int(input('enter the number c:'))\n",
        "def delta(a,b,c):\n",
        "  return ((b*b)-4*a*c)\n",
        "delta(a,b,c)  \n"
      ],
      "execution_count": null,
      "outputs": [
        {
          "output_type": "stream",
          "text": [
            "enter the number a:12\n",
            "enter the number b:36\n",
            "enter the number c:12\n"
          ],
          "name": "stdout"
        },
        {
          "output_type": "execute_result",
          "data": {
            "text/plain": [
              "720"
            ]
          },
          "metadata": {
            "tags": []
          },
          "execution_count": 1
        }
      ]
    },
    {
      "cell_type": "code",
      "metadata": {
        "id": "zkGgdzi2l9bi",
        "outputId": "78ab36b8-6e78-4cef-9100-78dc51330062",
        "colab": {
          "base_uri": "https://localhost:8080/"
        }
      },
      "source": [
        "\"\"\"\n",
        "Write a program which takes two inputs 'n1' and 'n2' from user and prints\n",
        "    1. \"odd negative\" if sum of two numbers is odd and negative\n",
        "    2. \"even negative\" if sum of two numbers is even and negative    \n",
        "    3. \"even positive\" if sum of two numbers is even and positive\n",
        "    4. \"odd positive\" if sum of two numbers is odd and positive\n",
        "\"\"\"\n",
        "n1=int(input(\"enter the number n1:\"))\n",
        "n2=int(input(\"enter the number n2:\"))\n",
        "sum=n1+n2\n",
        "if(sum<0 and sum%2!=0):\n",
        "  print(\"odd and negative\")\n",
        "if(sum<0 and sum%2==0):\n",
        "    print(\"even and negative\")\n",
        "if(sum>0 and sum%2!=0):\n",
        "      print(\"odd and positive\")\n",
        "if(sum>0 and sum%2==0):\n",
        "      print(\"even and positive\")\n",
        "\n",
        "\n",
        "\n",
        "  \n",
        "  \n"
      ],
      "execution_count": 4,
      "outputs": [
        {
          "output_type": "stream",
          "text": [
            "enter the number n1:3\n",
            "enter the number n2:4\n",
            "odd and positive\n"
          ],
          "name": "stdout"
        }
      ]
    },
    {
      "cell_type": "code",
      "metadata": {
        "id": "BZBKspF3UQBQ",
        "outputId": "29dc4255-6884-4f6b-e6c0-180c30304d9a",
        "colab": {
          "base_uri": "https://localhost:8080/",
          "height": 136
        }
      },
      "source": [
        "\"\"\"\n",
        "Write a program which takes 'n' numbers from user and prints average\n",
        "    Eg input 1,2\n",
        "       output 1.5\n",
        "       input 1,10,12\n",
        "       output 7.6\n",
        "       input  20, 30, 30, 40\n",
        "       output  30\n",
        "\"\"\"       \n",
        "def avgerage(lst):\n",
        "  x=int(input(\"how many numbers of inputs:\"))\n",
        "  lst=[]\n",
        "  for i in range(1,x+1):\n",
        "    k=int(input())\n",
        "    lst.append(k)\n",
        "  print('input',lst)\n",
        "  sum=0\n",
        "  for i in lst:\n",
        "    sum+=i\n",
        "  print(sum)\n",
        "  avg=sum/x\n",
        "  print('avg of {} inputs is {}'.format(x,avg))\n",
        "avgerage(lst)\n"
      ],
      "execution_count": null,
      "outputs": [
        {
          "output_type": "stream",
          "text": [
            "how many numbers of inputs:3\n",
            "2\n",
            "3\n",
            "4\n",
            "input [2, 3, 4]\n",
            "9\n",
            "avg of 3 inputs is 3.0\n"
          ],
          "name": "stdout"
        }
      ]
    },
    {
      "cell_type": "code",
      "metadata": {
        "id": "5vDHeVaDcV4_",
        "outputId": "d3f8b287-ac0a-42b0-fa1c-257806a5db1e",
        "colab": {
          "base_uri": "https://localhost:8080/",
          "height": 51
        }
      },
      "source": [
        "\"\"\"\n",
        "Write a function that takes input as any number and returns square of it. If input is of type \"str\"\n",
        "it outputs message Please enter only integer or float value\n",
        "\"\"\"\n",
        "def square(number):\n",
        "    if type(number)==str:\n",
        "        print(\"Please enter only integer or float value\")    \n",
        "    else:\n",
        "      return number*number\n",
        "square('hj') \n",
        "square(4.5)       "
      ],
      "execution_count": null,
      "outputs": [
        {
          "output_type": "stream",
          "text": [
            "Please enter only integer or float value\n"
          ],
          "name": "stdout"
        },
        {
          "output_type": "execute_result",
          "data": {
            "text/plain": [
              "20.25"
            ]
          },
          "metadata": {
            "tags": []
          },
          "execution_count": 64
        }
      ]
    },
    {
      "cell_type": "code",
      "metadata": {
        "id": "6lL7meadkYiM",
        "outputId": "5e4450b9-547c-4039-b05b-5849b45fa503",
        "colab": {
          "base_uri": "https://localhost:8080/"
        }
      },
      "source": [
        "\"\"\"\n",
        " Write a function that takes input as any number and returns square of it. If input is of type \"str\"\n",
        "it outputs message Please enter only integer or float value\n",
        " \"\"\"\n",
        "def square(number):\n",
        "    if type(number)==int:\n",
        "      return number*number\n",
        "    elif type(number)==float:\n",
        "      return number*number\n",
        "    else:\n",
        "      print(\"Please enter only integer or float value\") \n",
        "square(4.5)      "
      ],
      "execution_count": 2,
      "outputs": [
        {
          "output_type": "execute_result",
          "data": {
            "text/plain": [
              "20.25"
            ]
          },
          "metadata": {
            "tags": []
          },
          "execution_count": 2
        }
      ]
    },
    {
      "cell_type": "code",
      "metadata": {
        "id": "u9bF28jtjvbk",
        "outputId": "d835ceba-39d8-4bba-8a17-5dfaf15496f0",
        "colab": {
          "base_uri": "https://localhost:8080/",
          "height": 85
        }
      },
      "source": [
        "\"\"\"\n",
        "Write a program which takes input from user untill user gives input number between 20 - 30\n",
        "    Eg.\n",
        "       \"Enter Number\"\n",
        "        input = 3\n",
        "        \"Enter Number\"\n",
        "        input = 88\n",
        "        \"Enter Number\"\n",
        "        input = 44\n",
        "        \"Enter Number\"\n",
        "        input = 22\n",
        "        \"You Entered number in correct range\n",
        "\"\"\"       \n",
        "while True:\n",
        "  Input=int(input(\"enter Number:\"))\n",
        "  if 20<=Input<=30:\n",
        "       print(\"You Entered number in correct range\")\n",
        "       break   #stops the loop if entered in crt range\n"
      ],
      "execution_count": null,
      "outputs": [
        {
          "output_type": "stream",
          "text": [
            "enter Number:45\n",
            "enter Number:67\n",
            "enter Number:23\n",
            "You Entered number in correct range\n"
          ],
          "name": "stdout"
        }
      ]
    },
    {
      "cell_type": "code",
      "metadata": {
        "id": "Q8rIm7Fwpfiw"
      },
      "source": [
        "\n",
        "while True:\n",
        "  Input=int(input(\"enter Number:\"))\n",
        "  if 20<=Input<=30:\n",
        "       print(\"You Entered number in correct range\")\n",
        "         # no break statement so continues evn  if entered in crt range\n"
      ],
      "execution_count": null,
      "outputs": []
    },
    {
      "cell_type": "code",
      "metadata": {
        "id": "326LSjBVasfB",
        "outputId": "9c3c4625-9048-46ee-f0a3-c7ed69770794",
        "colab": {
          "base_uri": "https://localhost:8080/",
          "height": 51
        }
      },
      "source": [
        "\"\"\"\n",
        "Write a function that takes single digit integer value and return string\n",
        "    Eg. input = 1\n",
        "        output = \"one\"\n",
        "        input = 4\n",
        "        output = \"four\"\n",
        "        input = 12\n",
        "        output = \"Invalid input please enter single digit integer number\"\n",
        "\n",
        "\"\"\"       \n",
        "n=input(\"Input=\")\n",
        "if len(n)==1:\n",
        "  if int(n)==0:\n",
        "    print('\"output=zero\"')\n",
        "  if int(n)==1:\n",
        "        print('\"output=one\"')\n",
        "  if int(n)==1:\n",
        "    print('\"output=one\"')\n",
        "  if int(n)==2:\n",
        "    print('\"output=two\"')\n",
        "  if int(n)==3:\n",
        "    print('\"output=three\"')\n",
        "  if int(n)==4:\n",
        "    print('\"output=four\"')\n",
        "  if int(n)==5:\n",
        "    print('\"output=five\"')\n",
        "  if int(n)==6:\n",
        "    print('\"output=six\"')\n",
        "  if int(n)==7:\n",
        "    print('\"output=seven\"')\n",
        "  if int(n)==8:\n",
        "    print('\"output=eight\"')\n",
        "  if int(n)==9:\n",
        "    print('\"output=nine\"')\n",
        "else:\n",
        "  print(\"Invalid input please enter single digit integer number\")"
      ],
      "execution_count": null,
      "outputs": [
        {
          "output_type": "stream",
          "text": [
            "Input=5\n",
            "\"output=five\"\n"
          ],
          "name": "stdout"
        }
      ]
    },
    {
      "cell_type": "code",
      "metadata": {
        "id": "64PKDYs-FmZ8"
      },
      "source": [
        "dict={1:\"one\",2:\"two\",3:\"three\",4:\"four\",5:\"five\",6:\"six\",7:\"seven\",8:\"eight\",9:\"nine\"}\n",
        "k=int(input())\n",
        "if k>9:\n",
        "  print(\"you enter only single digit\")\n",
        "else:\n",
        "  x=dict[k]\n",
        "  print(x)"
      ],
      "execution_count": null,
      "outputs": []
    },
    {
      "cell_type": "code",
      "metadata": {
        "id": "lQaHW_4C_kGs",
        "outputId": "ebbc812b-7f75-4646-e68a-c2582884a2f5",
        "colab": {
          "base_uri": "https://localhost:8080/"
        }
      },
      "source": [
        "\"\"\"\n",
        "Write a program which perform sum of all odd location list elements and even location list elements \n",
        "    using -ve indexing i.e. list[-1] is last element list[-2] = second last element etc \n",
        "    Eg.\n",
        "    [1,4,5,9,3,4,8,9]\n",
        "    odd  = 4+9+4+9 = 26\n",
        "    even = 1+5+3+8 = 17\n",
        "\"\"\"    \n",
        "def EvenOddSum(a,x): \n",
        "    even = 0\n",
        "    odd = 0\n",
        "    for i in range(x): \n",
        "        if i % 2 == 0: \n",
        "            even += a[-i] \n",
        "        else: \n",
        "            odd += a[-i]  \n",
        "    print (\"-ve Even index positions sum \", even) \n",
        "    print (\"-ve Odd index positions sum \", odd) \n",
        "  \n",
        "x=int(input(\"how many numbers you want:\"))\n",
        "lst=[]\n",
        "for i in range(1,x+1):\n",
        "  k=int(input())\n",
        "  lst.append(k)\n",
        "print(lst)\n",
        "n = len(lst) \n",
        "EvenOddSum(lst, x)"
      ],
      "execution_count": 4,
      "outputs": [
        {
          "output_type": "stream",
          "text": [
            "how many numbers you want:4\n",
            "1\n",
            "2\n",
            "3\n",
            "4\n",
            "[1, 2, 3, 4]\n",
            "-ve Even index positions sum  4\n",
            "-ve Odd index positions sum  6\n"
          ],
          "name": "stdout"
        }
      ]
    },
    {
      "cell_type": "code",
      "metadata": {
        "id": "NfGvFlIsiC3R",
        "outputId": "37414414-4d3c-4e88-aef3-947507f937ff",
        "colab": {
          "base_uri": "https://localhost:8080/",
          "height": 68
        }
      },
      "source": [
        "\"\"\"\n",
        "Write a program which takes input as string and prints output as reverse of string using for loop\n",
        "     Eg.\n",
        "      Input: \"Nilesh\"\n",
        "      Output: \"hseliN\"\n",
        "\"\"\"      \n",
        "def reverse(s): \n",
        "  str = \"\" \n",
        "  for i in s:\n",
        "    str = i + str\n",
        "  return str\n",
        "\n",
        "s = input('enter the string:')\n",
        "\n",
        "print (\"The original string is : \",end=\"\") \n",
        "print (s) \n",
        "\n",
        "print (\"The reversed string is : \",end=\"\") \n",
        "print (reverse(s))"
      ],
      "execution_count": null,
      "outputs": [
        {
          "output_type": "stream",
          "text": [
            "enter the string:sridevi\n",
            "The original string is : sridevi\n",
            "The reversed string is : ivedirs\n"
          ],
          "name": "stdout"
        }
      ]
    },
    {
      "cell_type": "code",
      "metadata": {
        "id": "je2T2d1rCnGA",
        "outputId": "d9e4d836-8513-41cf-e374-bf23b5ba93f6",
        "colab": {
          "base_uri": "https://localhost:8080/"
        }
      },
      "source": [
        "\"\"\"\n",
        "write a program which takes list of integers and returns list of string as follows\n",
        "\n",
        "    [   1,         2,     3,       4,      5,     6,        7,          8,       9,          10     ]\n",
        "    [Not prime, Prime, Prime, Not Prime, prime,  Not Prime, Prime, Not Prime, Not Prime, Not Prime, ]\n",
        "\"\"\"    \n",
        "def prime(x):\n",
        "  if x>1:\n",
        "    for i in range(2,x):\n",
        "      if x%i==0:\n",
        "        return \"not prime\"\n",
        "        break\n",
        "    else:\n",
        "      return \"prime\"\n",
        "  else:\n",
        "    return \"not prime\"\n",
        "  \n",
        "x=[1,2,3,4,5,6,7,8,9]\n",
        "k=list(map(prime,x))\n",
        "print(x)\n",
        "print(k)"
      ],
      "execution_count": 6,
      "outputs": [
        {
          "output_type": "stream",
          "text": [
            "[1, 2, 3, 4, 5, 6, 7, 8, 9]\n",
            "['not prime', 'prime', 'prime', 'not prime', 'prime', 'not prime', 'prime', 'not prime', 'not prime']\n"
          ],
          "name": "stdout"
        }
      ]
    }
  ]
}